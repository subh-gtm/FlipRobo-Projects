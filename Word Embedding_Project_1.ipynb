{
 "cells": [
  {
   "cell_type": "raw",
   "metadata": {},
   "source": [
    "pick your own document (say A) and create BOW using a count vectorizer. \n",
    "Use another document (say B) and identify how many words of the B document are \n",
    "present in the BOW of A."
   ]
  },
  {
   "cell_type": "code",
   "execution_count": 123,
   "metadata": {},
   "outputs": [
    {
     "name": "stdout",
     "output_type": "stream",
     "text": [
      "bag of words : ['10', '10th', '11', '12', '13', '15', '1500', '18', '185', '187', '20', '2008', '21', '21day', '22', '22000', '2582', '26', '273935', '28', '30', '31', '3536', '3840', '430', '45', '50', '52', '6500', '71', '800', '82', '924', '924km', 'able', 'about', 'accommodation', 'accompanied', 'according', 'across', 'adds', 'adjusts', 'advance', 'affidavit', 'afraid', 'after', 'again', 'against', 'ahmed', 'aid', 'airports', 'all', 'allowed', 'almost', 'alone', 'already', 'also', 'always', 'am', 'an', 'and', 'andhra', 'angeles', 'anguished', 'announced', 'another', 'any', 'anything', 'apart', 'app', 'application', 'apply', 'april', 'are', 'area', 'areas', 'aren', 'around', 'arranged', 'arrangements', 'arrested', 'arrived', 'as', 'asked', 'asking', 'associations', 'assuming', 'at', 'atmosphere', 'authorities', 'autorickshaw', 'away', 'back', 'bad', 'baghel', 'bags', 'bakawand', 'bandra', 'barricaded', 'basis', 'bastar', 'be', 'became', 'because', 'become', 'been', 'before', 'began', 'beginning', 'being', 'bengal', 'better', 'between', 'bhupesh', 'bibi', 'bicycle', 'bihar', 'billionodd', 'board', 'booking', 'border', 'borders', 'bought', 'building', 'buniadpur', 'bus', 'buses', 'but', 'buy', 'by', 'calculated', 'call', 'calling', 'came', 'campus', 'can', 'canteen', 'car', 'case', 'caseloads', 'cases', 'caught', 'ceiling', 'celsius', 'central', 'centre', 'centres', 'certain', 'chakkarpur', 'charging', 'checkposts', 'cheerful', 'chennai', 'chhattisgarh', 'chief', 'cities', 'city', 'claimed', 'class', 'classified', 'climbing', 'closed', 'clothes', 'cognisance', 'colleagues', 'college', 'colony', 'comes', 'coming', 'commission', 'common', 'compared', 'complaint', 'completely', 'complex', 'concessions', 'conditions', 'confirmed', 'congestion', 'considering', 'construction', 'containment', 'contractor', 'controversy', 'coronavirus', 'cost', 'could', 'couldn', 'counselled', 'counters', 'country', 'court', 'covered', 'covid', 'covid19', 'crisis', 'crossfire', 'crowd', 'currently', 'cycle', 'dal', 'daughters', 'day', 'days', 'decided', 'decision', 'defence', 'degrees', 'delhi', 'demarcated', 'depot', 'depressed', 'designated', 'desperate', 'desperation', 'detailed', 'detailing', 'did', 'didis', 'didn', 'difficulties', 'directed', 'disperse', 'distance', 'distribution', 'district', 'districts', 'diverted', 'do', 'does', 'doesn', 'domestic', 'don', 'done', 'down', 'downhill', 'drink', 'drinking', 'driven', 'driver', 'due', 'during', 'dying', 'each', 'eagerly', 'earner', 'earning', 'efforts', 'either', 'emblematic', 'emerge', 'emphatically', 'employed', 'employers', 'empty', 'end', 'ended', 'ends', 'enjoyed', 'enough', 'enter', 'entire', 'escalated', 'especially', 'essentials', 'established', 'even', 'ever', 'every', 'exaggerating', 'except', 'exhaustion', 'existence', 'exodus', 'explains', 'expression', 'extended', 'extreme', 'face', 'faced', 'factory', 'families', 'family', 'fans', 'fare', 'faster', 'fear', 'fearful', 'fears', 'feature', 'fellow', 'ferried', 'few', 'filed', 'filled', 'finally', 'find', 'firs', 'first', 'firsthand', 'five', 'flat', 'flats', 'floor', 'food', 'foot', 'footwear', 'for', 'force', 'formal', 'fortunate', 'found', 'four', 'free', 'friend', 'friends', 'from', 'gate', 'gathered', 'gave', 'get', 'getting', 'given', 'go', 'goahead', 'going', 'got', 'government', 'governments', 'goyal', 'grabbed', 'green', 'group', 'gurugram', 'had', 'half', 'halts', 'handing', 'handtomouth', 'handy', 'has', 'have', 'he', 'headed', 'heading', 'heard', 'hectic', 'help', 'helped', 'helpful', 'helping', 'hence', 'her', 'here', 'hide', 'highest', 'highways', 'him', 'his', 'hit', 'home', 'hometowns', 'hope', 'hot', 'hours', 'house', 'houses', 'housing', 'hovers', 'how', 'however', 'human', 'humanitarian', 'hundreds', 'hunger', 'husband', 'idle', 'if', 'images', 'impose', 'imposed', 'improve', 'improves', 'in', 'inadequacies', 'incessantly', 'income', 'increasingly', 'india', 'initially', 'insisted', 'instance', 'instances', 'into', 'is', 'isn', 'issues', 'it', 'jagan', 'jail', 'job', 'journey', 'july', 'june', 'katihar', 'kilometre', 'kilometres', 'km', 'knew', 'know', 'knows', 'lakh', 'land', 'landlord', 'lapses', 'large', 'last', 'late', 'lathicharged', 'laughs', 'launched', 'least', 'leave', 'left', 'letter', 'liberating', 'life', 'lifted', 'like', 'limit', 'lived', 'lives', 'living', 'lockdown', 'lockdowns', 'long', 'look', 'looking', 'los', 'lost', 'made', 'make', 'malda', 'male', 'mammoth', 'managed', 'manager', 'manish', 'many', 'map', 'march', 'marred', 'married', 'mask', 'matter', 'may', 'me', 'meanwhile', 'medicine', 'mehak', 'member', 'members', 'men', 'midapril', 'middle', 'might', 'migrant', 'migrants', 'millions', 'minister', 'mistreated', 'mistreatment', 'mobile', 'modi', 'mohan', 'money', 'month', 'months', 'more', 'most', 'mother', 'motu', 'moved', 'movements', 'multiple', 'mumbai', 'my', 'myself', 'narendra', 'national', 'nationwide', 'native', 'navigate', 'near', 'nearby', 'necessary', 'needed', 'never', 'next', 'ngos', 'night', 'nine', 'no', 'none', 'normal', 'not', 'notice', 'now', 'number', 'of', 'off', 'officials', 'old', 'oldest', 'on', 'once', 'one', 'online', 'only', 'option', 'or', 'orange', 'organised', 'other', 'others', 'our', 'out', 'outside', 'over', 'own', 'packed', 'paid', 'pandemic', 'parcels', 'parents', 'part', 'pay', 'payments', 'people', 'percent', 'perish', 'phase', 'phone', 'piyush', 'place', 'places', 'plan', 'platform', 'pleaded', 'pm', 'points', 'police', 'poor', 'portion', 'positive', 'positively', 'postapocalyptic', 'poverty', 'pradesh', 'premises', 'press', 'prestigious', 'prevent', 'previously', 'prime', 'problems', 'prone', 'protest', 'provide', 'provided', 'proximity', 'pujari', 'put', 'quick', 'quickly', 'quiet', 'quite', 'radius', 'rahina', 'railway', 'railways', 'ran', 'rations', 'reached', 'reaching', 'rebuffed', 'received', 'recorded', 'red', 'reddy', 'register', 'registered', 'registration', 'release', 'relief', 'remembers', 'rent', 'report', 'reported', 'reports', 'requested', 'required', 'reshma', 'residents', 'respond', 'response', 'rest', 'restricted', 'resume', 'return', 'returned', 'reunited', 'rice', 'ride', 'right', 'rights', 'road', 'roads', 'roadside', 'roamed', 'room', 'rooms', 'roughly', 'route', 'rs', 'run', 'runs', 'rush', 'safe', 'said', 'salaries', 'same', 'sandwiches', 'saved', 'savings', 'saying', 'says', 'scared', 'scorching', 'sealed', 'section', 'see', 'seen', 'send', 'sending', 'sent', 'set', 'shakoor', 'share', 'she', 'shelter', 'shooed', 'shortage', 'should', 'shramik', 'shut', 'similar', 'since', 'single', 'sisters', 'site', 'sitting', 'situation', 'six', 'slept', 'slowly', 'small', 'so', 'societies', 'society', 'some', 'someone', 'soon', 'sounds', 'special', 'spread', 'stands', 'started', 'starvation', 'starving', 'state', 'stated', 'stating', 'station', 'stations', 'stay', 'stayed', 'staying', 'stopped', 'store', 'storeroom', 'students', 'studies', 'sudden', 'suo', 'supreme', 'sure', 'surprisingly', 'survive', 'survived', 'suspended', 'sustained', 'swamped', 'take', 'taken', 'takes', 'taking', 'tales', 'telephoning', 'temper', 'temperature', 'temples', 'tense', 'terrified', 'tested', 'textile', 'than', 'that', 'the', 'their', 'them', 'themselves', 'then', 'there', 'these', 'they', 'things', 'this', 'those', 'though', 'thought', 'three', 'through', 'throughout', 'till', 'time', 'tiring', 'to', 'told', 'too', 'took', 'tough', 'toward', 'town', 'towns', 'train', 'trains', 'transport', 'transportation', 'travelers', 'travelled', 'trip', 'trying', 'turkman', 'turn', 'turned', 'two', 'tworoom', 'uncertain', 'undertaking', 'unfounded', 'unfurnished', 'unidentified', 'unite', 'up', 'uprooted', 'upset', 'urgency', 'us', 'used', 'vacant', 'vacate', 'vacated', 've', 'very', 'village', 'villages', 'violation', 'virus', 'wages', 'wait', 'waiting', 'walking', 'wanted', 'was', 'wasn', 'water', 'way', 'we', 'weaker', 'website', 'week', 'weeks', 'weeping', 'welfare', 'well', 'went', 'were', 'weren', 'west', 'what', 'when', 'whenever', 'where', 'whether', 'who', 'whole', 'whom', 'whose', 'wife', 'will', 'with', 'within', 'without', 'work', 'worked', 'worker', 'workerlabour', 'workers', 'working', 'works', 'world', 'worried', 'worry', 'worsening', 'would', 'wound', 'written', 'years', 'yes', 'yesterday', 'yet', 'you', 'youngest', 'yourselves', 'ys', 'zero', 'zone', 'zones']\n"
     ]
    }
   ],
   "source": [
    "\n",
    "import nltk\n",
    "import string\n",
    "from nltk.corpus import stopwords\n",
    "from nltk.corpus import wordnet\n",
    "from sklearn.feature_extraction.text import CountVectorizer \n",
    "from nltk.tokenize import word_tokenize\n",
    "from nltk.corpus import stopwords\n",
    "import pandas as pd\n",
    "\n",
    "\n",
    "text = open('LockDown_1.txt', encoding=\"utf-8\").read()\n",
    "lower_case = text.lower()\n",
    "cleaned_text = lower_case.translate(str.maketrans('', '', string.punctuation))\n",
    "\n",
    "vect1 = CountVectorizer()\n",
    "\n",
    "vect1.fit_transform(input1)\n",
    "input1= vect1.get_feature_names()\n",
    "print(\"bag of words :\",vect1.get_feature_names())\n"
   ]
  },
  {
   "cell_type": "code",
   "execution_count": 100,
   "metadata": {},
   "outputs": [],
   "source": [
    "#vect1.vocabulary_"
   ]
  },
  {
   "cell_type": "code",
   "execution_count": 122,
   "metadata": {},
   "outputs": [
    {
     "name": "stdout",
     "output_type": "stream",
     "text": [
      "bag of words 2 : ['000', '100', '11', '12', '120', '15', '150', '175', '19', '200', '22', '24', '25', '250', '280', '30', '300', '34', '50', '500', '55', '600', '700', '86', 'about', 'accident', 'accommodations', 'accompanied', 'address', 'administration', 'afford', 'after', 'again', 'ahmednagar', 'akola', 'all', 'allahabad', 'allotment', 'allow', 'allowed', 'alone', 'along', 'already', 'also', 'am', 'amount', 'an', 'and', 'anger', 'announcements', 'another', 'any', 'anything', 'apathy', 'appliances', 'april', 'are', 'around', 'arrange', 'arranged', 'as', 'ashok', 'asked', 'assembled', 'at', 'ate', 'authorities', 'authority', 'auto', 'autorickshaws', 'away', 'awhad', 'babudhan', 'back', 'backs', 'baghel', 'bags', 'be', 'because', 'been', 'before', 'began', 'begged', 'begun', 'bell', 'bemetara', 'bhakri', 'bharat', 'bhind', 'bhugaon', 'bhupesh', 'bihar', 'bijapur', 'blinking', 'board', 'boarded', 'boiled', 'border', 'both', 'bottles', 'boundary', 'broke', 'buildings', 'bus', 'buses', 'but', 'buxar', 'buy', 'by', 'called', 'came', 'cancelled', 'card', 'central', 'charge', 'charged', 'charity', 'checkpost', 'chhattisgarh', 'chief', 'children', 'chinchwad', 'chutney', 'cigarettes', 'claims', 'cleared', 'closed', 'commissioner', 'condition', 'constant', 'contain', 'contractor', 'conveyed', 'corner', 'coronavirus', 'corporation', 'corrected', 'cost', 'could', 'couldn', 'countrymen', 'couple', 'covered', 'covering', 'crossed', 'crowd', 'curd', 'daily', 'dal', 'daughters', 'day', 'days', 'decided', 'deputy', 'despair', 'desperation', 'despite', 'development', 'did', 'didn', 'died', 'distance', 'distancing', 'distributed', 'district', 'do', 'doing', 'don', 'down', 'dozens', 'drive', 'driver', 'driving', 'dropped', 'drove', 'during', 'durkhedi', 'duty', 'each', 'earlier', 'earning', 'earnings', 'effort', 'eight', 'elderly', 'empty', 'enough', 'enter', 'erected', 'even', 'every', 'everyday', 'eye', 'face', 'failed', 'families', 'family', 'fare', 'fear', 'february', 'feed', 'feeling', 'fellow', 'few', 'file', 'finally', 'first', 'folded', 'food', 'foot', 'for', 'forced', 'form', 'forward', 'four', 'free', 'from', 'further', 'get', 'give', 'given', 'giving', 'go', 'going', 'gondia', 'got', 'government', 'governments', 'gradually', 'ground', 'group', 'groups', 'had', 'hadn', 'half', 'hands', 'happening', 'hardly', 'has', 'hasn', 'haunts', 'have', 'he', 'headed', 'heading', 'heads', 'hear', 'heard', 'held', 'helped', 'her', 'here', 'highway', 'hiremath', 'hirerugi', 'his', 'history', 'home', 'homes', 'hometowns', 'horrible', 'household', 'how', 'however', 'hundreds', 'hurts', 'husband', 'if', 'imagined', 'in', 'including', 'india', 'indore', 'inside', 'insisting', 'interview', 'into', 'is', 'it', 'its', 'jhansi', 'journey', 'journeys', 'just', 'karnataka', 'karve', 'kg', 'kilometres', 'km', 'kumar', 'kush', 'labourers', 'lakh', 'landlords', 'late', 'leave', 'left', 'lessons', 'let', 'lied', 'like', 'limited', 'listening', 'living', 'lockdown', 'locked', 'lonavala', 'long', 'lonikand', 'looking', 'lucky', 'luggage', 'lying', 'made', 'madhya', 'maharashtra', 'maintaining', 'make', 'managed', 'mankar', 'manmad', 'many', 'manzre', 'marathwada', 'march', 'marched', 'markande', 'marked', 'market', 'mask', 'may', 'me', 'meals', 'members', 'men', 'met', 'metres', 'metropolitan', 'migrant', 'migrants', 'milk', 'mini', 'minister', 'modi', 'money', 'months', 'more', 'most', 'mother', 'mumbai', 'my', 'nagar', 'name', 'narendra', 'nation', 'navi', 'nazir', 'near', 'neared', 'nearly', 'next', 'nigdi', 'night', 'nine', 'ninety', 'no', 'not', 'note', 'numbers', 'of', 'officer', 'official', 'officials', 'often', 'old', 'on', 'once', 'one', 'ones', 'only', 'opened', 'option', 'or', 'ordered', 'organisations', 'other', 'others', 'our', 'out', 'outside', 'pack', 'packed', 'paid', 'pain', 'pandemic', 'pani', 'parbhani', 'parents', 'parked', 'part', 'pass', 'passed', 'patas', 'pathan', 'pathetic', 'pay', 'payment', 'people', 'per', 'percent', 'person', 'pimpri', 'placed', 'places', 'planned', 'please', 'plight', 'pockets', 'police', 'policeman', 'policy', 'poor', 'pradeep', 'pradesh', 'pratima', 'pregnant', 'prepared', 'prime', 'private', 'priyanka', 'provide', 'public', 'pune', 'puri', 'queue', 'railway', 'raju', 'ran', 'rang', 'rathod', 'ration', 'rations', 'reach', 'reaching', 'red', 'region', 'relied', 'relieve', 'relieved', 'remembered', 'rented', 'return', 'rice', 'road', 'roadside', 'room', 'rs', 'run', 'safe', 'said', 'sanjeev', 'sarang', 'sat', 'satan', 'saw', 'say', 'school', 'scorching', 'see', 'sell', 'sendhwa', 'senior', 'sent', 'set', 'seven', 'several', 'she', 'shelter', 'shield', 'shifted', 'shikrapur', 'shirur', 'shop', 'shops', 'should', 'shown', 'side', 'similar', 'since', 'singh', 'single', 'sir', 'sitting', 'six', 'skipping', 'slowed', 'small', 'so', 'social', 'sold', 'solitary', 'some', 'someone', 'son', 'sounded', 'spend', 'spent', 'spoke', 'sporadic', 'spotted', 'spread', 'square', 'stalls', 'start', 'started', 'state', 'states', 'station', 'stood', 'stopped', 'stories', 'stranded', 'strapped', 'struggling', 'suburb', 'such', 'sudarshan', 'sudhir', 'sun', 'sunanda', 'superintendent', 'supervisor', 'survived', 'sushma', 'suspended', 'swelled', 'sympathetic', 'take', 'taken', 'tall', 'tehsildar', 'than', 'that', 'the', 'their', 'theirs', 'them', 'themselves', 'then', 'there', 'these', 'they', 'think', 'this', 'thousands', 'three', 'tired', 'tiredly', 'to', 'today', 'token', 'tokens', 'told', 'tone', 'too', 'took', 'total', 'towards', 'town', 'train', 'transport', 'travel', 'traveling', 'travelling', 'trickle', 'truck', 'trucks', 'twenty', 'two', 'umbrellas', 'undri', 'us', 'using', 'uttar', 'utterly', 'vashi', 'vegetables', 'vehicle', 'vidarbha', 'vijay', 'villages', 'visibly', 'voice', 'wager', 'wages', 'wagholi', 'waiting', 'wakde', 'walk', 'walked', 'walking', 'wandering', 'want', 'was', 'washim', 'wasn', 'water', 'way', 'we', 'weekly', 'well', 'went', 'were', 'what', 'whatever', 'when', 'which', 'while', 'who', 'will', 'wine', 'with', 'without', 'witnessed', 'women', 'words', 'work', 'worked', 'workers', 'workplaces', 'worried', 'worrying', 'worse', 'worth', 'would', 'wouldn', 'year', 'yerwada', 'yesterday', 'yet']\n"
     ]
    }
   ],
   "source": [
    "text2 = open('LockDown_2.txt', encoding=\"utf-8\").read()\n",
    "lower_case = text.lower()\n",
    "cleaned_text1 = lower_case.translate(str.maketrans('', '', string.punctuation))\n",
    "vect2 = CountVectorizer()\n",
    "vect2.fit_transform(sentences)\n",
    "input2 = vect2.get_feature_names()\n",
    "print(\"bag of words 2 :\",vect2.get_feature_names())\n",
    "\n",
    "\n"
   ]
  },
  {
   "cell_type": "code",
   "execution_count": 119,
   "metadata": {},
   "outputs": [
    {
     "data": {
      "text/plain": [
       "640"
      ]
     },
     "execution_count": 119,
     "metadata": {},
     "output_type": "execute_result"
    }
   ],
   "source": [
    "len(input2)"
   ]
  },
  {
   "cell_type": "code",
   "execution_count": 124,
   "metadata": {},
   "outputs": [
    {
     "data": {
      "text/plain": [
       "839"
      ]
     },
     "execution_count": 124,
     "metadata": {},
     "output_type": "execute_result"
    }
   ],
   "source": [
    "len(input1)"
   ]
  },
  {
   "cell_type": "code",
   "execution_count": 165,
   "metadata": {},
   "outputs": [
    {
     "name": "stdout",
     "output_type": "stream",
     "text": [
      "['11', '12', '15', '22', '30', '50', 'about', 'accompanied', 'after', 'again', 'all', 'allowed', 'alone', 'already', 'also', 'am', 'an', 'and', 'another', 'any', 'anything', 'april', 'are', 'around', 'arranged', 'as', 'asked', 'at', 'authorities', 'away', 'back', 'baghel', 'bags', 'be', 'because', 'been', 'before', 'began', 'bhupesh', 'bihar', 'board', 'border', 'bus', 'buses', 'but', 'buy', 'by', 'came', 'central', 'chhattisgarh', 'chief', 'closed', 'contractor', 'coronavirus', 'cost', 'could', 'couldn', 'covered', 'crowd', 'dal', 'daughters', 'day', 'days', 'decided', 'desperation', 'did', 'didn', 'distance', 'district', 'do', 'don', 'down', 'driver', 'during', 'each', 'earning', 'empty', 'enough', 'enter', 'even', 'every', 'face', 'families', 'family', 'fare', 'fear', 'fellow', 'few', 'finally', 'first', 'food', 'foot', 'for', 'four', 'free', 'from', 'get', 'given', 'go', 'going', 'got', 'government', 'governments', 'group', 'had', 'half', 'has', 'have', 'he', 'headed', 'heading', 'heard', 'helped', 'her', 'here', 'his', 'home', 'hometowns', 'how', 'however', 'hundreds', 'husband', 'if', 'in', 'india', 'into', 'is', 'it', 'journey', 'kilometres', 'km', 'lakh', 'late', 'leave', 'left', 'like', 'living', 'lockdown', 'long', 'looking', 'made', 'make', 'managed', 'many', 'march', 'mask', 'may', 'me', 'members', 'men', 'migrant', 'migrants', 'minister', 'modi', 'money', 'months', 'more', 'most', 'mother', 'mumbai', 'my', 'narendra', 'near', 'next', 'night', 'nine', 'no', 'not', 'of', 'officials', 'old', 'on', 'once', 'one', 'only', 'option', 'or', 'other', 'others', 'our', 'out', 'outside', 'packed', 'paid', 'pandemic', 'parents', 'part', 'pay', 'people', 'percent', 'places', 'police', 'poor', 'pradesh', 'prime', 'provide', 'railway', 'ran', 'rations', 'reaching', 'red', 'return', 'rice', 'road', 'roadside', 'room', 'rs', 'run', 'safe', 'said', 'scorching', 'see', 'sent', 'set', 'she', 'shelter', 'should', 'similar', 'since', 'single', 'sitting', 'six', 'small', 'so', 'some', 'someone', 'spread', 'started', 'state', 'station', 'stopped', 'survived', 'suspended', 'take', 'taken', 'than', 'that', 'the', 'their', 'them', 'themselves', 'then', 'there', 'these', 'they', 'this', 'three', 'to', 'told', 'too', 'took', 'town', 'train', 'transport', 'two', 'us', 'villages', 'wages', 'waiting', 'walking', 'was', 'wasn', 'water', 'way', 'we', 'well', 'went', 'were', 'what', 'when', 'who', 'will', 'with', 'without', 'work', 'worked', 'workers', 'worried', 'would', 'yesterday', 'yet']\n"
     ]
    }
   ],
   "source": [
    "\n",
    "\n",
    "d = []\n",
    "for x in input1:\n",
    "    if x in input2:\n",
    "        d.append(x)\n",
    "print(d)\n",
    "\n",
    "\n"
   ]
  },
  {
   "cell_type": "code",
   "execution_count": 166,
   "metadata": {},
   "outputs": [
    {
     "data": {
      "text/plain": [
       "281"
      ]
     },
     "execution_count": 166,
     "metadata": {},
     "output_type": "execute_result"
    }
   ],
   "source": [
    "len(d)"
   ]
  }
 ],
 "metadata": {
  "kernelspec": {
   "display_name": "Python 3",
   "language": "python",
   "name": "python3"
  },
  "language_info": {
   "codemirror_mode": {
    "name": "ipython",
    "version": 3
   },
   "file_extension": ".py",
   "mimetype": "text/x-python",
   "name": "python",
   "nbconvert_exporter": "python",
   "pygments_lexer": "ipython3",
   "version": "3.7.4"
  }
 },
 "nbformat": 4,
 "nbformat_minor": 2
}
